{
 "cells": [
  {
   "cell_type": "markdown",
   "metadata": {},
   "source": [
    "## The Kanban Board Overview"
   ]
  },
  {
   "cell_type": "markdown",
   "metadata": {},
   "source": [
    "#### Code for the User and user authentication service was obtained and modified from [This tutorial](https://github.com/CoreyMSchafer/code_snippets/tree/master/Python/Flask_Blog)"
   ]
  },
  {
   "cell_type": "markdown",
   "metadata": {},
   "source": [
    "### **Implemented features:**\n",
    "- One can add participants to their board\n",
    "- One can add assignees to a task\n",
    "- Drag-and-drop for state change\n",
    "- Edit process for state change\n",
    "- Universal UI principles for design implementation\n",
    "- Username reference system for easy referencing in assigning and adding to board processes.\n",
    "- Email-based password reset service\n",
    "- Role-based board participant definition\n",
    "\n",
    "### **User roles:**\n",
    "#### ADMIN:\n",
    "- Can add participant to board and edit board details\n",
    "- Can add assignees to tasks and change task states through both drag-and-drop and the task edit process.\n",
    "- Can edit, add, or delete tasks as they see necessary.\n",
    "- Can remove participants from the board or change roles but not theirs\n",
    "\n",
    "#### EDITOR:\n",
    "- Can add assignees to tasks and change task states through both drag-and-drop and the task edit process.\n",
    "- Can edit, add, or delete tasks as they see necessary.\n",
    "\n",
    "#### VIEW-ONLY:\n",
    "- Can only view the board but can still be assigned tasks but cannot change task state"
   ]
  },
  {
   "cell_type": "markdown",
   "metadata": {},
   "source": [
    "## Test Users\n",
    "\n",
    "Username: Adakole\n",
    "\n",
    "Email: test@minerva.edu\n",
    "\n",
    "Password: Test123\n",
    "\n",
    "Boards: 2\n",
    "\n",
    "---------------------\n",
    "Username: cs162tests\n",
    "\n",
    "Email: test@uni.minerva.edu\n",
    "\n",
    "Password: Test123\n",
    "\n",
    "Boards: 1\n",
    "\n",
    "---------------------\n",
    "Username: Samuel\n",
    "\n",
    "Email: cs162tests@minerva.kgi.edu\n",
    "\n",
    "Password: Test123\n",
    "\n",
    "Boards: 1\n",
    "\n"
   ]
  },
  {
   "cell_type": "markdown",
   "metadata": {},
   "source": [
    "### Register Users"
   ]
  },
  {
   "cell_type": "code",
   "execution_count": null,
   "metadata": {},
   "outputs": [],
   "source": [
    "@main.route(\"/register\", methods=['GET', 'POST'])\n",
    "def register():\n",
    "    if current_user.is_authenticated:\n",
    "        return redirect(url_for('main.home'))\n",
    "    form = RegistrationForm()\n",
    "    if form.validate_on_submit():\n",
    "        hashed_password = bcrypt.generate_password_hash(form.password.data).decode('utf-8')\n",
    "        user = User(username=form.username.data, email=form.email.data, password=hashed_password)\n",
    "        db.session.add(user)\n",
    "        db.session.commit()\n",
    "        flash('Your account has been created! You are now able to log in', 'success')\n",
    "        return redirect(url_for('users.login'))\n",
    "    elif request.method == \"GET\":\n",
    "        return render_template('register.html', title='Register', form=form)\n",
    "    else:\n",
    "        return render_template('register.html', title='Register', form=form), 401"
   ]
  },
  {
   "cell_type": "markdown",
   "metadata": {},
   "source": [
    "### Login Users"
   ]
  },
  {
   "cell_type": "code",
   "execution_count": null,
   "metadata": {},
   "outputs": [],
   "source": [
    "@app.route(\"/login\", methods=['GET', 'POST'])\n",
    "def login():\n",
    "    if current_user.is_authenticated:\n",
    "        return redirect(url_for('home'))\n",
    "    form = LoginForm()\n",
    "    if form.validate_on_submit():\n",
    "        user = User.query.filter_by(email=form.email.data).first()\n",
    "        if user and bcrypt.check_password_hash(user.password, form.password.data):\n",
    "            login_user(user, remember=form.remember.data)\n",
    "            next_page = request.args.get('next')\n",
    "            return redirect(next_page) if next_page else redirect(url_for('home'))\n",
    "        else:\n",
    "            flash('Login Unsuccessful. Please check email and password', 'danger')\n",
    "    elif request.method == \"GET\":\n",
    "        return render_template('login.html', title='Login', form=form)\n",
    "    else:\n",
    "        return render_template('login.html', title='Login', form=form), 401"
   ]
  },
  {
   "cell_type": "markdown",
   "metadata": {},
   "source": [
    "### Logout Users"
   ]
  },
  {
   "cell_type": "code",
   "execution_count": null,
   "metadata": {},
   "outputs": [],
   "source": [
    "@app.route(\"/logout\")\n",
    "def logout():\n",
    "    logout_user()\n",
    "    return redirect(url_for('users.login')), 200"
   ]
  },
  {
   "cell_type": "markdown",
   "metadata": {},
   "source": [
    "### Modify User account information"
   ]
  },
  {
   "cell_type": "code",
   "execution_count": null,
   "metadata": {},
   "outputs": [],
   "source": [
    "\n",
    "def save_picture(form_picture):\n",
    "    random_hex = secrets.token_hex(8)\n",
    "    _, f_ext = os.path.splitext(form_picture.filename)\n",
    "    picture_fn = random_hex + f_ext\n",
    "    picture_path = os.path.join(app.root_path, 'static/profile_pics', picture_fn)\n",
    "\n",
    "    output_size = (125, 125)\n",
    "    i = Image.open(form_picture)\n",
    "    i.thumbnail(output_size)\n",
    "    i.save(picture_path)\n",
    "\n",
    "    return picture_fn"
   ]
  },
  {
   "cell_type": "code",
   "execution_count": null,
   "metadata": {},
   "outputs": [],
   "source": [
    "@app.route(\"/account\", methods=['GET', 'POST'])\n",
    "@login_required\n",
    "def account():\n",
    "    form = UpdateAccountForm()\n",
    "    if form.validate_on_submit():\n",
    "        if form.picture.data:\n",
    "            picture_file = save_picture(form.picture.data)\n",
    "            current_user.image_file = picture_file\n",
    "        current_user.username = form.username.data\n",
    "        current_user.email = form.email.data\n",
    "        db.session.commit()\n",
    "        flash('Your account has been updated!', 'success')\n",
    "        return redirect(url_for('account'))\n",
    "    elif request.method == 'GET':\n",
    "        form.username.data = current_user.username\n",
    "        form.email.data = current_user.email\n",
    "    image_file = url_for('static', filename='profile_pics/' + current_user.image_file)\n",
    "    return render_template('account.html', title='Account',\n",
    "                           image_file=image_file, form=form)"
   ]
  },
  {
   "cell_type": "markdown",
   "metadata": {},
   "source": [
    "### Manage reset email page"
   ]
  },
  {
   "cell_type": "code",
   "execution_count": null,
   "metadata": {},
   "outputs": [],
   "source": [
    "def send_reset_email(user):\n",
    "    token = user.get_reset_token()\n",
    "    msg = Message('Password Reset Request',\n",
    "                  sender='noreply@kanban.com',\n",
    "                  recipients=[user.email])\n",
    "    msg.body = f'''To reset your password, visit the following link:\n",
    "{url_for('reset_token', token=token, _external=True)}\n",
    "If you did not make this request then simply ignore this email and no changes will be made.\n",
    "'''\n",
    "    mail.send(msg)"
   ]
  },
  {
   "cell_type": "code",
   "execution_count": null,
   "metadata": {},
   "outputs": [],
   "source": [
    "@app.route(\"/reset_password\", methods=['GET', 'POST'])\n",
    "def reset_request():\n",
    "    if current_user.is_authenticated:\n",
    "        return redirect(url_for('home'))\n",
    "    form = RequestResetForm()\n",
    "    if form.validate_on_submit():\n",
    "        user = User.query.filter_by(email=form.email.data).first()\n",
    "        send_reset_email(user)\n",
    "        flash('An email has been sent with instructions to reset your password.', 'info')\n",
    "        return redirect(url_for('login'))\n",
    "    return render_template('reset_request.html', title='Reset Password', form=form)"
   ]
  },
  {
   "cell_type": "markdown",
   "metadata": {},
   "source": [
    "### Manage reset token page"
   ]
  },
  {
   "cell_type": "code",
   "execution_count": null,
   "metadata": {},
   "outputs": [],
   "source": [
    "@app.route(\"/reset_password/<token>\", methods=['GET', 'POST'])\n",
    "def reset_token(token):\n",
    "    if current_user.is_authenticated:\n",
    "        return redirect(url_for('home'))\n",
    "    user = User.verify_reset_token(token)\n",
    "    if user is None:\n",
    "        flash('That is an invalid or expired token', 'warning')\n",
    "        return redirect(url_for('reset_request'))\n",
    "    form = ResetPasswordForm()\n",
    "    if form.validate_on_submit():\n",
    "        hashed_password = bcrypt.generate_password_hash(form.password.data).decode('utf-8')\n",
    "        user.password = hashed_password\n",
    "        db.session.commit()\n",
    "        flash('Your password has been updated! You are now able to log in', 'success')\n",
    "        return redirect(url_for('login'))\n",
    "    return render_template('reset_token.html', title='Reset Password', form=form)"
   ]
  },
  {
   "cell_type": "markdown",
   "metadata": {},
   "source": [
    "### Update a task because of addDrop"
   ]
  },
  {
   "cell_type": "code",
   "execution_count": null,
   "metadata": {},
   "outputs": [],
   "source": [
    "@app.route('/update_task', methods = [\"POST\"])\n",
    "def update_task():\n",
    "    task_id = request.form[\"id\"]\n",
    "    new_state = request.form[\"state\"]\n",
    "    refr_task = Task.query.get(task_id)\n",
    "    if refr_task:\n",
    "        refr_task.state = new_state\n",
    "        db.session.commit()\n",
    "        flash(\"Task state has successfully changed!!\", \"success\")\n",
    "        return \"Update has been made\", 200\n",
    "    else:\n",
    "        flash(\"No valid task ID was supplied!!\", \"danger\")\n",
    "        return \"No valid task ID was supplied\", 401"
   ]
  },
  {
   "cell_type": "markdown",
   "metadata": {},
   "source": [
    "### Remove a task from container directly"
   ]
  },
  {
   "cell_type": "code",
   "execution_count": null,
   "metadata": {},
   "outputs": [],
   "source": [
    "@app.route('/remove_task', methods = [\"POST\"])\n",
    "def remove_task():\n",
    "    task_id = request.form[\"id\"]\n",
    "    refr_task = Task.query.get(task_id)\n",
    "    if refr_task:\n",
    "        db.session.delete(refr_task)\n",
    "        db.session.commit()\n",
    "        flash(\"Task has successfully been deleted!!\", \"success\")\n",
    "        return \"That task has been deleted\", 200\n",
    "    else:\n",
    "        flash(\"No valid task ID was supplied!!\", \"danger\")\n",
    "        return \"No valid task ID was supplied\", 401"
   ]
  },
  {
   "cell_type": "markdown",
   "metadata": {},
   "source": [
    "### Create a new board"
   ]
  },
  {
   "cell_type": "code",
   "execution_count": null,
   "metadata": {},
   "outputs": [],
   "source": [
    "@app.route(\"/new_board\", methods = [\"GET\", \"POST\"])\n",
    "@login_required\n",
    "def new_board():\n",
    "    form = BoardForm()\n",
    "    if form.validate_on_submit():\n",
    "        board_name = form.name.data\n",
    "        board_description = form.description.data\n",
    "        board_participants = form.participants.entries\n",
    "        for participant in board_participants:\n",
    "            participant.id = User.query.filter_by(username = participant.username).first()\n",
    "        new_board = Board(name = board_name, description = board_description)\n",
    "        db.session.add(new_board)\n",
    "        db.session.flush()\n",
    "        participants_list = [BoardParticipant(board_id = new_board.id, participant_id = current_user.id, role = BoardRolesEnum.ADMIN)] + [BoardParticipant(board_id = new_board.id, participant_id = participant.id, role = participant.role) for participant in board_participants if participant.id != current_user.id] \n",
    "        db.session.add_all(participants_list)\n",
    "        db.session.commit()\n",
    "        return redirect(url_for('board', board_id = new_board.id))\n",
    "    elif request.method == \"GET\":\n",
    "        return render_template(\"new_board.html\", form = form, templateParticipant = ParticipantForm(prefix = \"participants-_-\"))\n",
    "    else:\n",
    "        return render_template(\"new_board.html\", form = form, templateParticipant = ParticipantForm(prefix = \"participants-_-\")), 400"
   ]
  },
  {
   "cell_type": "markdown",
   "metadata": {},
   "source": [
    "### Create a new task or update a task if id is provided"
   ]
  },
  {
   "cell_type": "code",
   "execution_count": null,
   "metadata": {},
   "outputs": [],
   "source": [
    "@app.route(\"/task/<int:board_id>\", methods = [\"POST\"])\n",
    "@login_required\n",
    "def task(board_id):\n",
    "    form = TaskForm()\n",
    "    pres_board = Board.query.get_or_404(board_id)\n",
    "    form.assignees.choices = [(user.participant_id, user.participant.username) for user in pres_board.participants]\n",
    "    tid = form.tid.data\n",
    "    print(request.form)\n",
    "    if form.validate_on_submit():\n",
    "        task_name = form.name.data\n",
    "        task_content = form.content.data\n",
    "        task_state = form.state.data\n",
    "        task_assignees = form.assignees.data\n",
    "        assignees_list = [User.query.get(assignee) for assignee in task_assignees]\n",
    "        assignees_list = [assignee for assignee in assignees_list if assignee is not None]\n",
    "        roleCheck = BoardParticipant.query.get_or_404((board_id, current_user.id))\n",
    "        if tid is None:\n",
    "            if roleCheck.role > 1:\n",
    "                new_task = Task(board_id = board_id, name = task_name, content = task_content, state = task_state, assignees = assignees_list)\n",
    "                db.session.add(new_task)\n",
    "                db.session.commit()  \n",
    "                flash(\"The task has been created!!\", \"success\")\n",
    "            else:\n",
    "                abort (403)\n",
    "        else:\n",
    "            task = Task.query.get(tid)\n",
    "            if task:\n",
    "                task.name = task_name\n",
    "                task.content = task_content\n",
    "                task.state = task_state\n",
    "                task.assignees = assignees_list\n",
    "                db.session.commit()\n",
    "                flash(\"The task has been updated!!\", \"success\")\n",
    "    return redirect(url_for('board', board_id = board_id))"
   ]
  },
  {
   "cell_type": "markdown",
   "metadata": {},
   "source": [
    "### Update a board or return a board dependent on the request method"
   ]
  },
  {
   "cell_type": "code",
   "execution_count": null,
   "metadata": {},
   "outputs": [],
   "source": [
    "@app.route(\"/board/<int:board_id>\", methods = ['GET', 'POST'])\n",
    "@login_required\n",
    "def board(board_id):\n",
    "    boardForm = BoardForm()\n",
    "    templateParticipant = ParticipantForm(prefix = \"participants-_-\")\n",
    "    pres_board = Board.query.get_or_404(board_id)\n",
    "    role_check = BoardParticipant.query.get((board_id, current_user.id))\n",
    "    if role_check is None:\n",
    "       abort (403) \n",
    "    if boardForm.validate_on_submit():\n",
    "        if role_check.role < 3:\n",
    "            abort(403)\n",
    "        pres_board.name = boardForm.name.data\n",
    "        pres_board.description = boardForm.description.data\n",
    "        board_participants = boardForm.participants.entries\n",
    "        pres_entries = pres_board.participants\n",
    "        for entry in pres_entries:\n",
    "            db.session.delete(entry)\n",
    "        db.session.commit()\n",
    "        new_participants = [BoardParticipant(board_id = pres_board.id, participant_id = current_user.id, role = BoardRolesEnum.ADMIN)] + list(set([BoardParticipant(board_id = pres_board.id, participant_id = participant.username.data, role = participant.role.data) for participant in board_participants if int(participant.username.data) != current_user.id]))\n",
    "        for participant in new_participants:\n",
    "            db.session.add(participant)\n",
    "        db.session.commit()\n",
    "        flash(\"Board has been updated!\", \"success\")\n",
    "        return redirect(url_for(\"board\", board_id = board_id))\n",
    "    elif request.method == \"GET\":    \n",
    "        boardForm = BoardForm(name = pres_board.name, description = pres_board.description, participants = [ParticipantForm(username = participant.participant_id, role = participant.role) for participant in pres_board.participants])\n",
    "    taskForm = TaskForm()\n",
    "    tasks = [task.to_dict() for task in pres_board.tasks]\n",
    "    name = pres_board.name\n",
    "    for task in tasks:\n",
    "        task[\"assignees\"] = [assignee[\"id\"] for assignee in task[\"assignees\"]]\n",
    "    todo = [task for task in tasks if task['state'] == \"Requested\"]\n",
    "    doing = [task for task in tasks if task['state'] == \"In Progress\"]\n",
    "    done = [task for task in tasks if task['state'] == \"Completed\"]\n",
    "    taskForm.assignees.choices = [(user.participant_id, user.participant.username) for user in pres_board.participants]\n",
    "    return render_template('board_page.html', todo = todo, doing = doing, done = done, taskForm = taskForm, boardForm = boardForm, role = role_check.role, board_id = board_id, templateParticipant = templateParticipant)"
   ]
  }
 ],
 "metadata": {
  "kernelspec": {
   "display_name": "Python 3",
   "language": "python",
   "name": "python3"
  },
  "language_info": {
   "codemirror_mode": {
    "name": "ipython",
    "version": 3
   },
   "file_extension": ".py",
   "mimetype": "text/x-python",
   "name": "python",
   "nbconvert_exporter": "python",
   "pygments_lexer": "ipython3",
   "version": "3.9.4"
  },
  "vscode": {
   "interpreter": {
    "hash": "aee8b7b246df8f9039afb4144a1f6fd8d2ca17a180786b69acc140d282b71a49"
   }
  }
 },
 "nbformat": 4,
 "nbformat_minor": 2
}
